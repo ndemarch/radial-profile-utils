{
 "cells": [
  {
   "cell_type": "code",
   "execution_count": 16,
   "id": "aa403340-edcb-4ee7-b6bc-a0fd9d5fe7ec",
   "metadata": {},
   "outputs": [],
   "source": [
    "import pandas as pd\n",
    "import pymysql\n",
    "import numpy as np"
   ]
  },
  {
   "cell_type": "code",
   "execution_count": 17,
   "id": "4c85379e-a506-4c3a-b53d-df7569911313",
   "metadata": {},
   "outputs": [],
   "source": [
    "#db_name = 'basic_quantities'\n",
    "db_name = 'HRS'\n",
    "db_password = 'Verti$%^co129'\n",
    "db_username = 'demarchn'\n",
    "\n",
    "db_command = (\n",
    "    \"\"\"SELECT hrs.Galaxy, hrs.HI_def FROM \"\"\"\n",
    "    + db_name\n",
    "    + \"\"\" as hrs\"\"\")"
   ]
  },
  {
   "cell_type": "code",
   "execution_count": 18,
   "id": "de8805a1-c115-46f6-9705-1697c23db07f",
   "metadata": {},
   "outputs": [
    {
     "name": "stderr",
     "output_type": "stream",
     "text": [
      "/Users/ndemo1220/opt/anaconda3/lib/python3.8/site-packages/pandas/io/sql.py:761: UserWarning: pandas only support SQLAlchemy connectable(engine/connection) ordatabase string URI or sqlite3 DBAPI2 connectionother DBAPI2 objects are not tested, please consider using SQLAlchemy\n",
      "  warnings.warn(\n"
     ]
    }
   ],
   "source": [
    "db_connection = pymysql.connect(\n",
    "    host=\"lauca.phys.uvic.ca\",\n",
    "    user=db_username,\n",
    "    passwd=db_password,\n",
    "    db=\"vertico\",\n",
    ")\n",
    "\n",
    "# query database and return dataframe\n",
    "df = pd.read_sql(db_command, con=db_connection)"
   ]
  },
  {
   "cell_type": "code",
   "execution_count": 19,
   "id": "728f6298-a942-4ce0-a218-a6609c73e189",
   "metadata": {},
   "outputs": [],
   "source": [
    "# load names of galaxies I am working with\n",
    "\n",
    "names = np.loadtxt(\"/Users/ndemo1220/Documents/python_codes/python_files/galaxies.txt\", delimiter=\"\\n\", skiprows=0, dtype=np.str_).tolist()\n"
   ]
  },
  {
   "cell_type": "code",
   "execution_count": 20,
   "id": "36312146-c5c4-45de-9ab2-2af5aaabd990",
   "metadata": {},
   "outputs": [],
   "source": [
    "df = df[np.isin(df['Galaxy'], names)]"
   ]
  },
  {
   "cell_type": "code",
   "execution_count": 21,
   "id": "162460b8-5248-418f-a120-069d07cded62",
   "metadata": {},
   "outputs": [
    {
     "name": "stderr",
     "output_type": "stream",
     "text": [
      "/var/folders/w0/cl050lmj5v54sc9828h6kxbr0000gn/T/ipykernel_9856/1573288415.py:2: SettingWithCopyWarning: \n",
      "A value is trying to be set on a copy of a slice from a DataFrame\n",
      "\n",
      "See the caveats in the documentation: https://pandas.pydata.org/pandas-docs/stable/user_guide/indexing.html#returning-a-view-versus-a-copy\n",
      "  df['HI_def'][11] = -0.43\n"
     ]
    }
   ],
   "source": [
    "df['HI_def'][3] = 0.25\n",
    "df['HI_def'][11] = -0.43"
   ]
  },
  {
   "cell_type": "code",
   "execution_count": 23,
   "id": "6b3e9657-14d2-4ee9-9aa9-3bdc7d2f665c",
   "metadata": {},
   "outputs": [],
   "source": [
    "# save the radii\n",
    "\n",
    "\n",
    "import fitsio\n",
    "\n",
    "dset1 = np.empty(df['HI_def'].shape[0], dtype=[('Galaxy',np.array(names).dtype), ('HI_def','f8') ])\n",
    "\n",
    "dset1['Galaxy'] = np.array(names)\n",
    "dset1['HI_def'] = df['HI_def']\n",
    "\n",
    "\n",
    "\n",
    "\n",
    "fitsio.write('/Users/ndemo1220/Documents/research_saved_data/HI_def.fits', dset1, clobber = True, extname='Data')\n"
   ]
  },
  {
   "cell_type": "code",
   "execution_count": null,
   "id": "2bc0ad9e-a89c-46a3-9ad5-29af58a52ef5",
   "metadata": {},
   "outputs": [],
   "source": []
  }
 ],
 "metadata": {
  "kernelspec": {
   "display_name": "Python 3 (ipykernel)",
   "language": "python",
   "name": "python3"
  },
  "language_info": {
   "codemirror_mode": {
    "name": "ipython",
    "version": 3
   },
   "file_extension": ".py",
   "mimetype": "text/x-python",
   "name": "python",
   "nbconvert_exporter": "python",
   "pygments_lexer": "ipython3",
   "version": "3.8.13"
  }
 },
 "nbformat": 4,
 "nbformat_minor": 5
}
